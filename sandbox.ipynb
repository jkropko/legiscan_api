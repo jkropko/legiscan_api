{
 "cells": [
  {
   "cell_type": "code",
   "execution_count": 1,
   "id": "aeffc752-6c81-436b-8677-572a2d845344",
   "metadata": {},
   "outputs": [],
   "source": [
    "from legiscanscraper import legiscanscraper\n",
    "import json\n",
    "import requests\n",
    "import pandas as pd"
   ]
  },
  {
   "cell_type": "code",
   "execution_count": 2,
   "id": "0c9e6056-4a8e-4414-9eb6-d92a519f38fd",
   "metadata": {},
   "outputs": [],
   "source": [
    "ls = legiscanscraper()"
   ]
  },
  {
   "cell_type": "code",
   "execution_count": 3,
   "id": "a31d189f-f463-4b4a-8864-d07772586fb6",
   "metadata": {},
   "outputs": [],
   "source": [
    "sessions = ls.get_sessions()"
   ]
  },
  {
   "cell_type": "code",
   "execution_count": 15,
   "id": "de008809-4a3e-4ecb-bdf8-c412c405bf54",
   "metadata": {
    "scrolled": true
   },
   "outputs": [],
   "source": [
    "sessions.query(\"sine_die==1\")['session_id'].to_csv('concluded_session_ids.csv', index=False)\n"
   ]
  },
  {
   "cell_type": "markdown",
   "id": "156c7eb0-fdd1-419f-bd6d-18ea038cc52b",
   "metadata": {},
   "source": [
    "Things to figure out with respect to Rivanna:\n",
    "\n",
    "1. How to access Rivanna from a command line terminal\n",
    "\n",
    "2. How to add files to the /home directory from local storage, upload the Python files (or just download from github)\n",
    "\n",
    "3. Write a SLURM file to run all the jobs at once https://rc.virginia.edu/userinfo/hpc/slurm/\n",
    "\n",
    "Using Files with Job Arrays\n",
    "\n",
    "For more complex commands, you can prepare a file containing the text you wish to use. Your job script can read the file line by line. In the following example, you must number your subtasks starting from 1 sequentially. You must prepare the options_file.txt in advance and each line must be the options you wish to pass to your program.\n",
    "\n",
    "#!/bin/bash\n",
    "#\n",
    "#SBATCH --ntasks=1\n",
    "#SBATCH --partition=standard\n",
    "#SBATCH --time=3:00:00\n",
    "#SBATCH --array=1-1000\n",
    "\n",
    "OPTS=$(sed -n \"${SLURM_ARRAY_TASK_ID}\"p options.txt)\n",
    "\n",
    "./myprogram $OPTS\n",
    "\n",
    "The double quotes and curly braces are required.\n",
    "\n",
    "4. Learn how to keep track of progress and view errors, if any"
   ]
  }
 ],
 "metadata": {
  "kernelspec": {
   "display_name": "Python 3 (ipykernel)",
   "language": "python",
   "name": "python3"
  },
  "language_info": {
   "codemirror_mode": {
    "name": "ipython",
    "version": 3
   },
   "file_extension": ".py",
   "mimetype": "text/x-python",
   "name": "python",
   "nbconvert_exporter": "python",
   "pygments_lexer": "ipython3",
   "version": "3.12.5"
  }
 },
 "nbformat": 4,
 "nbformat_minor": 5
}
