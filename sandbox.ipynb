{
 "cells": [
  {
   "cell_type": "code",
   "execution_count": 1,
   "id": "aeffc752-6c81-436b-8677-572a2d845344",
   "metadata": {},
   "outputs": [],
   "source": [
    "from legiscanscraper import legiscanscraper\n",
    "import json\n",
    "import requests\n",
    "import pandas as pd"
   ]
  },
  {
   "cell_type": "code",
   "execution_count": 2,
   "id": "0c9e6056-4a8e-4414-9eb6-d92a519f38fd",
   "metadata": {},
   "outputs": [],
   "source": [
    "ls = legiscanscraper()"
   ]
  },
  {
   "cell_type": "code",
   "execution_count": 3,
   "id": "a31d189f-f463-4b4a-8864-d07772586fb6",
   "metadata": {},
   "outputs": [],
   "source": [
    "sessions = ls.get_sessions()"
   ]
  },
  {
   "cell_type": "code",
   "execution_count": 4,
   "id": "1b158c96-50fd-4b92-a09b-e048c6e337db",
   "metadata": {},
   "outputs": [
    {
     "name": "stdout",
     "output_type": "stream",
     "text": [
      "948711\n"
     ]
    },
    {
     "ename": "IndexError",
     "evalue": "list index out of range",
     "output_type": "error",
     "traceback": [
      "\u001b[0;31m---------------------------------------------------------------------------\u001b[0m",
      "\u001b[0;31mIndexError\u001b[0m                                Traceback (most recent call last)",
      "Cell \u001b[0;32mIn[4], line 1\u001b[0m\n\u001b[0;32m----> 1\u001b[0m \u001b[43mls\u001b[49m\u001b[38;5;241;43m.\u001b[39;49m\u001b[43mget_onebill_info\u001b[49m\u001b[43m(\u001b[49m\u001b[38;5;124;43m'\u001b[39;49m\u001b[38;5;124;43m948711\u001b[39;49m\u001b[38;5;124;43m'\u001b[39;49m\u001b[43m)\u001b[49m\n",
      "File \u001b[0;32m/legiscan_api/legiscanscraper.py:107\u001b[0m, in \u001b[0;36mlegiscanscraper.get_onebill_info\u001b[0;34m(self, billid)\u001b[0m\n\u001b[1;32m    105\u001b[0m r \u001b[38;5;241m=\u001b[39m requests\u001b[38;5;241m.\u001b[39mget(\u001b[38;5;28mself\u001b[39m\u001b[38;5;241m.\u001b[39mroot, params\u001b[38;5;241m=\u001b[39mparams, headers\u001b[38;5;241m=\u001b[39m\u001b[38;5;28mself\u001b[39m\u001b[38;5;241m.\u001b[39mheaders)\n\u001b[1;32m    106\u001b[0m myjson \u001b[38;5;241m=\u001b[39m json\u001b[38;5;241m.\u001b[39mloads(r\u001b[38;5;241m.\u001b[39mtext)\n\u001b[0;32m--> 107\u001b[0m myjson[\u001b[38;5;124m'\u001b[39m\u001b[38;5;124mtext\u001b[39m\u001b[38;5;124m'\u001b[39m] \u001b[38;5;241m=\u001b[39m \u001b[38;5;28mself\u001b[39m\u001b[38;5;241m.\u001b[39mget_bill_text(\u001b[43mmyjson\u001b[49m\u001b[43m[\u001b[49m\u001b[38;5;124;43m'\u001b[39;49m\u001b[38;5;124;43mbill\u001b[39;49m\u001b[38;5;124;43m'\u001b[39;49m\u001b[43m]\u001b[49m\u001b[43m[\u001b[49m\u001b[38;5;124;43m'\u001b[39;49m\u001b[38;5;124;43mtexts\u001b[39;49m\u001b[38;5;124;43m'\u001b[39;49m\u001b[43m]\u001b[49m\u001b[43m[\u001b[49m\u001b[38;5;241;43m0\u001b[39;49m\u001b[43m]\u001b[49m[\u001b[38;5;124m'\u001b[39m\u001b[38;5;124mstate_link\u001b[39m\u001b[38;5;124m'\u001b[39m])\n\u001b[1;32m    108\u001b[0m \u001b[38;5;28;01mreturn\u001b[39;00m myjson\n",
      "\u001b[0;31mIndexError\u001b[0m: list index out of range"
     ]
    }
   ],
   "source": [
    "ls.get_onebill_info('948711')"
   ]
  },
  {
   "cell_type": "code",
   "execution_count": 6,
   "id": "54b975b4-43bf-499e-95ba-142e1af66514",
   "metadata": {},
   "outputs": [
    {
     "data": {
      "text/plain": [
       "<Response [200]>"
      ]
     },
     "execution_count": 6,
     "metadata": {},
     "output_type": "execute_result"
    }
   ],
   "source": [
    "params = {'key': ls.legiscan_key,\n",
    "          'op': 'getBill',\n",
    "          'id': '948711'}\n",
    "r = requests.get(ls.root, params=params, headers=ls.headers)\n",
    "r"
   ]
  },
  {
   "cell_type": "code",
   "execution_count": 7,
   "id": "869d6d32-86aa-4bdb-98c3-95932b77a198",
   "metadata": {},
   "outputs": [
    {
     "data": {
      "text/plain": [
       "{'status': 'OK',\n",
       " 'bill': {'bill_id': 948711,\n",
       "  'change_hash': 'e1a32548639489831917eb9f7347d694',\n",
       "  'session_id': 1254,\n",
       "  'session': {'session_id': 1254,\n",
       "   'state_id': 1,\n",
       "   'year_start': 2017,\n",
       "   'year_end': 2017,\n",
       "   'prefile': 0,\n",
       "   'sine_die': 1,\n",
       "   'prior': 1,\n",
       "   'special': 0,\n",
       "   'session_tag': 'Regular Session',\n",
       "   'session_title': '2017 Regular Session',\n",
       "   'session_name': 'Regular Session 2017'},\n",
       "  'url': 'https://legiscan.com/AL/bill/HR27/2017',\n",
       "  'state_link': 'http://alisondb.legislature.state.al.us/Alison/SESSBillStatusResult.aspx?BILL=HR27&WIN_TYPE=SELECTED_STATUS',\n",
       "  'completed': 1,\n",
       "  'status': 3,\n",
       "  'status_date': '2017-03-16',\n",
       "  'progress': [{'date': '2017-02-23', 'event': 1},\n",
       "   {'date': '2017-02-23', 'event': 9},\n",
       "   {'date': '2017-03-02', 'event': 2},\n",
       "   {'date': '2017-03-07', 'event': 9},\n",
       "   {'date': '2017-03-16', 'event': 3}],\n",
       "  'state': 'AL',\n",
       "  'state_id': 1,\n",
       "  'bill_number': 'HR27',\n",
       "  'bill_type': 'R',\n",
       "  'bill_type_id': '2',\n",
       "  'body': 'H',\n",
       "  'body_id': 11,\n",
       "  'current_body': 'S',\n",
       "  'current_body_id': 12,\n",
       "  'title': 'Notice in writing, House, Rule 34 procedures for resolutions of local applications',\n",
       "  'description': 'Notice in writing, House, Rule 34 procedures for resolutions of local applications',\n",
       "  'pending_committee_id': 0,\n",
       "  'committee': [],\n",
       "  'referrals': [{'date': '2017-02-23',\n",
       "    'committee_id': 979,\n",
       "    'chamber': 'H',\n",
       "    'chamber_id': 11,\n",
       "    'name': 'Local Legislation'},\n",
       "   {'date': '2017-03-07',\n",
       "    'committee_id': 3348,\n",
       "    'chamber': 'S',\n",
       "    'chamber_id': 12,\n",
       "    'name': 'Local Legislation'}],\n",
       "  'history': [{'date': '2017-02-23',\n",
       "    'action': 'Read for the first time and referred to the House of Representatives committee on Local Legislation',\n",
       "    'chamber': 'H',\n",
       "    'chamber_id': 11,\n",
       "    'importance': 1},\n",
       "   {'date': '2017-02-28',\n",
       "    'action': 'Read for the second time and placed on the calendar',\n",
       "    'chamber': 'H',\n",
       "    'chamber_id': 11,\n",
       "    'importance': 0},\n",
       "   {'date': '2017-03-02',\n",
       "    'action': 'Third Reading Passed',\n",
       "    'chamber': 'H',\n",
       "    'chamber_id': 11,\n",
       "    'importance': 0},\n",
       "   {'date': '2017-03-02',\n",
       "    'action': 'Motion to Read a Third Time and Pass adopted Roll Call 147',\n",
       "    'chamber': 'H',\n",
       "    'chamber_id': 11,\n",
       "    'importance': 1},\n",
       "   {'date': '2017-03-07',\n",
       "    'action': 'Read for the first time and referred to the Senate committee on Local Legislation',\n",
       "    'chamber': 'S',\n",
       "    'chamber_id': 12,\n",
       "    'importance': 1},\n",
       "   {'date': '2017-03-15',\n",
       "    'action': 'Read for the second time and placed on the calendar',\n",
       "    'chamber': 'S',\n",
       "    'chamber_id': 12,\n",
       "    'importance': 0},\n",
       "   {'date': '2017-03-16',\n",
       "    'action': 'Motion to Read a Third Time and Pass adopted Roll Call 356',\n",
       "    'chamber': 'S',\n",
       "    'chamber_id': 12,\n",
       "    'importance': 0},\n",
       "   {'date': '2017-03-16',\n",
       "    'action': 'Third Reading Passed',\n",
       "    'chamber': 'S',\n",
       "    'chamber_id': 12,\n",
       "    'importance': 0},\n",
       "   {'date': '2017-03-16',\n",
       "    'action': 'Signature Requested',\n",
       "    'chamber': 'S',\n",
       "    'chamber_id': 12,\n",
       "    'importance': 0},\n",
       "   {'date': '2017-03-16',\n",
       "    'action': 'Passed Second House',\n",
       "    'chamber': 'H',\n",
       "    'chamber_id': 11,\n",
       "    'importance': 0},\n",
       "   {'date': '2017-03-16',\n",
       "    'action': 'Enrolled',\n",
       "    'chamber': 'H',\n",
       "    'chamber_id': 11,\n",
       "    'importance': 1},\n",
       "   {'date': '2017-03-16',\n",
       "    'action': 'Clerk of the House Certification',\n",
       "    'chamber': 'H',\n",
       "    'chamber_id': 11,\n",
       "    'importance': 0},\n",
       "   {'date': '2017-03-16',\n",
       "    'action': 'Forwarded to Governor on March 16, 2017 at 1:17 p.m. on March 16, 2017.',\n",
       "    'chamber': 'H',\n",
       "    'chamber_id': 11,\n",
       "    'importance': 0}],\n",
       "  'sponsors': [{'people_id': 3455,\n",
       "    'person_hash': '1kcz7onp',\n",
       "    'party_id': '1',\n",
       "    'state_id': 1,\n",
       "    'party': 'D',\n",
       "    'role_id': 1,\n",
       "    'role': 'Rep',\n",
       "    'name': 'Elaine Beech',\n",
       "    'first_name': 'Elaine',\n",
       "    'middle_name': '',\n",
       "    'last_name': 'Beech',\n",
       "    'suffix': '',\n",
       "    'nickname': '',\n",
       "    'district': 'HD-065',\n",
       "    'ftm_eid': 12997447,\n",
       "    'votesmart_id': 119435,\n",
       "    'opensecrets_id': '',\n",
       "    'knowwho_pid': 282649,\n",
       "    'ballotpedia': 'Elaine_Beech',\n",
       "    'bioguide_id': '',\n",
       "    'sponsor_type_id': 1,\n",
       "    'sponsor_order': 1,\n",
       "    'committee_sponsor': 0,\n",
       "    'committee_id': 0,\n",
       "    'state_federal': 0}],\n",
       "  'sasts': [],\n",
       "  'subjects': [{'subject_id': 181469, 'subject_name': 'Notice in Writing'}],\n",
       "  'texts': [],\n",
       "  'votes': [],\n",
       "  'amendments': [],\n",
       "  'supplements': [],\n",
       "  'calendar': []}}"
      ]
     },
     "execution_count": 7,
     "metadata": {},
     "output_type": "execute_result"
    }
   ],
   "source": [
    "myjson = json.loads(r.text)\n",
    "myjson"
   ]
  },
  {
   "cell_type": "code",
   "execution_count": 8,
   "id": "f49127cf-8af5-4935-9aa4-60cfd248c1f3",
   "metadata": {},
   "outputs": [
    {
     "data": {
      "text/plain": [
       "[]"
      ]
     },
     "execution_count": 8,
     "metadata": {},
     "output_type": "execute_result"
    }
   ],
   "source": [
    "myjson['bill']['texts']"
   ]
  },
  {
   "cell_type": "code",
   "execution_count": 15,
   "id": "de008809-4a3e-4ecb-bdf8-c412c405bf54",
   "metadata": {
    "scrolled": true
   },
   "outputs": [],
   "source": [
    "sessions.query(\"sine_die==1\")['session_id'].to_csv('concluded_session_ids.csv', index=False)\n"
   ]
  },
  {
   "cell_type": "markdown",
   "id": "156c7eb0-fdd1-419f-bd6d-18ea038cc52b",
   "metadata": {},
   "source": [
    "Things to figure out with respect to Rivanna:\n",
    "\n",
    "1. How to access Rivanna from a command line terminal\n",
    "\n",
    "2. How to add files to the /home directory from local storage, upload the Python files (or just download from github)\n",
    "\n",
    "3. Write a SLURM file to run all the jobs at once https://rc.virginia.edu/userinfo/hpc/slurm/\n",
    "\n",
    "Using Files with Job Arrays\n",
    "\n",
    "For more complex commands, you can prepare a file containing the text you wish to use. Your job script can read the file line by line. In the following example, you must number your subtasks starting from 1 sequentially. You must prepare the options_file.txt in advance and each line must be the options you wish to pass to your program.\n",
    "\n",
    "#!/bin/bash\n",
    "#\n",
    "#SBATCH --ntasks=1\n",
    "#SBATCH --partition=standard\n",
    "#SBATCH --time=3:00:00\n",
    "#SBATCH --array=1-1000\n",
    "\n",
    "OPTS=$(sed -n \"${SLURM_ARRAY_TASK_ID}\"p options.txt)\n",
    "\n",
    "./myprogram $OPTS\n",
    "\n",
    "The double quotes and curly braces are required.\n",
    "\n",
    "4. Learn how to keep track of progress and view errors, if any"
   ]
  }
 ],
 "metadata": {
  "kernelspec": {
   "display_name": "Python 3 (ipykernel)",
   "language": "python",
   "name": "python3"
  },
  "language_info": {
   "codemirror_mode": {
    "name": "ipython",
    "version": 3
   },
   "file_extension": ".py",
   "mimetype": "text/x-python",
   "name": "python",
   "nbconvert_exporter": "python",
   "pygments_lexer": "ipython3",
   "version": "3.12.5"
  }
 },
 "nbformat": 4,
 "nbformat_minor": 5
}
