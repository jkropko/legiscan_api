{
 "cells": [
  {
   "cell_type": "code",
   "execution_count": 3,
   "id": "41e3f4b1-17e6-4702-99d3-40be047b96e1",
   "metadata": {},
   "outputs": [],
   "source": [
    "import pandas as pd # works like tidydata\n",
    "import numpy as np # works with matrices\n",
    "import requests # conducts web transactions\n",
    "import json # works with json style data\n",
    "import dotenv # works with .env files\n",
    "import os # allows for operating system level commands"
   ]
  },
  {
   "cell_type": "markdown",
   "id": "9c4473a2-d878-4c3d-b303-1fb2b6981691",
   "metadata": {},
   "source": [
    "API documentation: https://legiscan.com/gaits/documentation/legiscan"
   ]
  },
  {
   "cell_type": "markdown",
   "id": "6cebe2fc-43da-4dcc-a3f3-f3c68e410de4",
   "metadata": {},
   "source": [
    "Step 1: Find the registration for the API key\n",
    "\n",
    "Step 2: Bring that key into the code in a way that does NOT copy-paste the key into this file"
   ]
  },
  {
   "cell_type": "code",
   "execution_count": 4,
   "id": "daa2fef3-073b-4e6a-befd-a3899a8dfc1e",
   "metadata": {},
   "outputs": [],
   "source": [
    "dotenv.load_dotenv() # finds and loads (silently) the .env file\n",
    "legiscan_key = os.getenv('legiscan_key')"
   ]
  },
  {
   "cell_type": "markdown",
   "id": "5c3be2ff-1198-4935-96e2-49d04bf5cdf6",
   "metadata": {},
   "source": [
    "Step 3: Use the API key to access the data we want\n",
    "\n",
    "An API is a URL constructed generally as: root / endpoint ? parameters\n",
    "\n",
    "1. Find the right root\n",
    "2. Find the right endpoint (this one isn't using endpoints, it's using a parameter called 'op')\n",
    "3. Find the right parameters\n",
    "4. Learn how this API wants us to supply the API key"
   ]
  },
  {
   "cell_type": "code",
   "execution_count": 6,
   "id": "325eb750-d716-42a4-b3ea-e2c35d44558c",
   "metadata": {},
   "outputs": [
    {
     "data": {
      "text/plain": [
       "<Response [200]>"
      ]
     },
     "execution_count": 6,
     "metadata": {},
     "output_type": "execute_result"
    }
   ],
   "source": [
    "root = 'https://api.legiscan.com'\n",
    "params = {'key': legiscan_key,\n",
    "         'op': 'getBill',\n",
    "         'id': '1167968'}\n",
    "r = requests.get(root, params=params)\n",
    "r"
   ]
  },
  {
   "cell_type": "code",
   "execution_count": 9,
   "id": "90244f4d-9466-46b9-a015-78048d3c2485",
   "metadata": {},
   "outputs": [],
   "source": [
    "myjson = json.loads(r.text)"
   ]
  },
  {
   "cell_type": "code",
   "execution_count": 12,
   "id": "e91d7edb-43dc-473c-83c2-74945c67c4ad",
   "metadata": {},
   "outputs": [
    {
     "data": {
      "text/html": [
       "<div>\n",
       "<style scoped>\n",
       "    .dataframe tbody tr th:only-of-type {\n",
       "        vertical-align: middle;\n",
       "    }\n",
       "\n",
       "    .dataframe tbody tr th {\n",
       "        vertical-align: top;\n",
       "    }\n",
       "\n",
       "    .dataframe thead th {\n",
       "        text-align: right;\n",
       "    }\n",
       "</style>\n",
       "<table border=\"1\" class=\"dataframe\">\n",
       "  <thead>\n",
       "    <tr style=\"text-align: right;\">\n",
       "      <th></th>\n",
       "      <th>doc_id</th>\n",
       "      <th>date</th>\n",
       "      <th>type</th>\n",
       "      <th>type_id</th>\n",
       "      <th>mime</th>\n",
       "      <th>mime_id</th>\n",
       "      <th>url</th>\n",
       "      <th>state_link</th>\n",
       "      <th>text_size</th>\n",
       "      <th>text_hash</th>\n",
       "      <th>alt_bill_text</th>\n",
       "      <th>alt_mime</th>\n",
       "      <th>alt_mime_id</th>\n",
       "      <th>alt_state_link</th>\n",
       "      <th>alt_text_size</th>\n",
       "      <th>alt_text_hash</th>\n",
       "    </tr>\n",
       "  </thead>\n",
       "  <tbody>\n",
       "    <tr>\n",
       "      <th>0</th>\n",
       "      <td>1868195</td>\n",
       "      <td>2019-01-23</td>\n",
       "      <td>Introduced</td>\n",
       "      <td>1</td>\n",
       "      <td>application/pdf</td>\n",
       "      <td>2</td>\n",
       "      <td>https://legiscan.com/MD/text/SB181/id/1868195</td>\n",
       "      <td>https://mgaleg.maryland.gov/2019RS/bills/sb/sb...</td>\n",
       "      <td>85467</td>\n",
       "      <td>423ba752efdfa002d991006e2b358a7f</td>\n",
       "      <td>0</td>\n",
       "      <td></td>\n",
       "      <td>0</td>\n",
       "      <td></td>\n",
       "      <td>0</td>\n",
       "      <td></td>\n",
       "    </tr>\n",
       "    <tr>\n",
       "      <th>1</th>\n",
       "      <td>1917357</td>\n",
       "      <td>2019-02-19</td>\n",
       "      <td>Engrossed</td>\n",
       "      <td>4</td>\n",
       "      <td>application/pdf</td>\n",
       "      <td>2</td>\n",
       "      <td>https://legiscan.com/MD/text/SB181/id/1917357</td>\n",
       "      <td>https://mgaleg.maryland.gov/2019RS/bills/sb/sb...</td>\n",
       "      <td>86322</td>\n",
       "      <td>d23002e61f4eba5cfb4e3c4d25890b18</td>\n",
       "      <td>0</td>\n",
       "      <td></td>\n",
       "      <td>0</td>\n",
       "      <td></td>\n",
       "      <td>0</td>\n",
       "      <td></td>\n",
       "    </tr>\n",
       "    <tr>\n",
       "      <th>2</th>\n",
       "      <td>2034836</td>\n",
       "      <td>2019-06-07</td>\n",
       "      <td>Chaptered</td>\n",
       "      <td>6</td>\n",
       "      <td>application/pdf</td>\n",
       "      <td>2</td>\n",
       "      <td>https://legiscan.com/MD/text/SB181/id/2034836</td>\n",
       "      <td>https://mgaleg.maryland.gov/2019RS/Chapters_no...</td>\n",
       "      <td>77961</td>\n",
       "      <td>083666935344581572f6df42e7fe6c5c</td>\n",
       "      <td>0</td>\n",
       "      <td></td>\n",
       "      <td>0</td>\n",
       "      <td></td>\n",
       "      <td>0</td>\n",
       "      <td></td>\n",
       "    </tr>\n",
       "  </tbody>\n",
       "</table>\n",
       "</div>"
      ],
      "text/plain": [
       "    doc_id        date        type  type_id             mime  mime_id  \\\n",
       "0  1868195  2019-01-23  Introduced        1  application/pdf        2   \n",
       "1  1917357  2019-02-19   Engrossed        4  application/pdf        2   \n",
       "2  2034836  2019-06-07   Chaptered        6  application/pdf        2   \n",
       "\n",
       "                                             url  \\\n",
       "0  https://legiscan.com/MD/text/SB181/id/1868195   \n",
       "1  https://legiscan.com/MD/text/SB181/id/1917357   \n",
       "2  https://legiscan.com/MD/text/SB181/id/2034836   \n",
       "\n",
       "                                          state_link  text_size  \\\n",
       "0  https://mgaleg.maryland.gov/2019RS/bills/sb/sb...      85467   \n",
       "1  https://mgaleg.maryland.gov/2019RS/bills/sb/sb...      86322   \n",
       "2  https://mgaleg.maryland.gov/2019RS/Chapters_no...      77961   \n",
       "\n",
       "                          text_hash  alt_bill_text alt_mime  alt_mime_id  \\\n",
       "0  423ba752efdfa002d991006e2b358a7f              0                     0   \n",
       "1  d23002e61f4eba5cfb4e3c4d25890b18              0                     0   \n",
       "2  083666935344581572f6df42e7fe6c5c              0                     0   \n",
       "\n",
       "  alt_state_link  alt_text_size alt_text_hash  \n",
       "0                             0                \n",
       "1                             0                \n",
       "2                             0                "
      ]
     },
     "execution_count": 12,
     "metadata": {},
     "output_type": "execute_result"
    }
   ],
   "source": [
    "pd.json_normalize(myjson, record_path = ['bill','texts'])"
   ]
  },
  {
   "cell_type": "markdown",
   "id": "392a0632-457d-4203-aedb-95c3f9b93018",
   "metadata": {},
   "source": [
    "The next two questions:\n",
    "\n",
    "1. How to find the bill ID in a systematic and automated way\n",
    "2. How to find machine readable bill text without webscraping or pulling off a PDF if at all possible"
   ]
  },
  {
   "cell_type": "markdown",
   "id": "26d9905c-5bf6-4f2f-a06b-5ae0d4975d26",
   "metadata": {},
   "source": [
    "To do:\n",
    "* Install packages for Python on your computer. Type on the command line:\n",
    "    * pip3 install pandas\n",
    "    * pip3 install numpy\n",
    "    * pip3 install requests\n",
    "    * pip3 install python-dotenv\n",
    "    * pip3 install jupyter\n",
    "    * pip3 install jupyterlab\n",
    "* Open the terminal, use cd to move into the folder where you want to save the legisan_api folder. Then type: git clone https://github.com/jkropko/legiscan_api\n",
    "* On the command line, type: jupyter lab (this launches Jupyter lab) then open the api_access.ipynb file\n",
    "* On the command line type: touch .env\n",
    "* Then: open .env"
   ]
  },
  {
   "cell_type": "code",
   "execution_count": null,
   "id": "a46959ac-330e-4d3d-b350-71870d7fb6d1",
   "metadata": {},
   "outputs": [],
   "source": []
  }
 ],
 "metadata": {
  "kernelspec": {
   "display_name": "Python 3 (ipykernel)",
   "language": "python",
   "name": "python3"
  },
  "language_info": {
   "codemirror_mode": {
    "name": "ipython",
    "version": 3
   },
   "file_extension": ".py",
   "mimetype": "text/x-python",
   "name": "python",
   "nbconvert_exporter": "python",
   "pygments_lexer": "ipython3",
   "version": "3.12.5"
  }
 },
 "nbformat": 4,
 "nbformat_minor": 5
}
